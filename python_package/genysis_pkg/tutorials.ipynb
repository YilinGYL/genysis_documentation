{
 "cells": [
  {
   "cell_type": "markdown",
   "metadata": {},
   "source": [
    "## Load GENYSIS library and set the token\n",
    "\n",
    "\n"
   ]
  },
  {
   "cell_type": "code",
   "execution_count": 1,
   "metadata": {},
   "outputs": [
    {
     "name": "stdout",
     "output_type": "stream",
     "text": [
      "Welcome to GENYSIS\n"
     ]
    }
   ],
   "source": [
    "import genysis\n",
    "token = 'dev'"
   ]
  },
  {
   "cell_type": "markdown",
   "metadata": {},
   "source": [
    "### File Management App"
   ]
  },
  {
   "cell_type": "code",
   "execution_count": 5,
   "metadata": {},
   "outputs": [
    {
     "name": "stdout",
     "output_type": "stream",
     "text": [
      "https://studiobitonti.appspot.com/?t=dev\n"
     ]
    },
    {
     "data": {
      "text/html": [
       "\n",
       "        <iframe\n",
       "            width=\"600\"\n",
       "            height=\"500\"\n",
       "            src=\"https://studiobitonti.appspot.com/?t=dev\"\n",
       "            frameborder=\"0\"\n",
       "            allowfullscreen\n",
       "        ></iframe>\n",
       "        "
      ],
      "text/plain": [
       "<IPython.lib.display.IFrame at 0x7c761d0>"
      ]
     },
     "metadata": {},
     "output_type": "display_data"
    },
    {
     "data": {
      "text/plain": [
       "'https://studiobitonti.appspot.com/?t=dev'"
      ]
     },
     "execution_count": 5,
     "metadata": {},
     "output_type": "execute_result"
    }
   ],
   "source": [
    "genysis.fileManager( token, displayInLine = True )"
   ]
  },
  {
   "cell_type": "markdown",
   "metadata": {},
   "source": [
    "### Upload file from local drive"
   ]
  },
  {
   "cell_type": "code",
   "execution_count": 5,
   "metadata": {},
   "outputs": [
    {
     "name": "stdout",
     "output_type": "stream",
     "text": [
      "successfully uploaded to test.obj\n"
     ]
    }
   ],
   "source": [
    "genysis.upload( src='test.obj', token='dev')"
   ]
  },
  {
   "cell_type": "markdown",
   "metadata": {},
   "source": [
    "### Download file to local drive"
   ]
  },
  {
   "cell_type": "code",
   "execution_count": 4,
   "metadata": {},
   "outputs": [
    {
     "name": "stdout",
     "output_type": "stream",
     "text": [
      "successfully downloaded to C:\\Users\\Pater\\Documents\\GitHub\\genysis_documentation\\python_package\\genysis_pkg/test.obj\n"
     ]
    }
   ],
   "source": [
    "genysis.download( src='test.obj', dest='test.obj', token='dev')"
   ]
  },
  {
   "cell_type": "markdown",
   "metadata": {
    "collapsed": true
   },
   "source": [
    "### List files of your personal folder"
   ]
  },
  {
   "cell_type": "code",
   "execution_count": 3,
   "metadata": {},
   "outputs": [
    {
     "name": "stdout",
     "output_type": "stream",
     "text": [
      "['1055-Mesh_0.stl', '1055-Mesh_1.stl', '1055.obj', '119-Mesh_0.stl', '119-Mesh_1.stl', '119-Mesh_2.stl', '119.obj', '1212.json', '1212grid.json', '1212lat.obj', '1212mes.stl', '1212meshr.stl', '1213-Mesh_0.stl', '1213-Mesh_1.stl', '1213-Mesh_2.stl', '1213.obj', '1213Meshed_0.stl', '1213Meshed_1.stl', '1213Meshed_2.stl', '1213Meshed_3.stl', '1213Meshed_4.stl', '1213Meshed_5.stl', '1213Meshed_6.stl', '1213Meshed_7.stl', '1213mesh_0.stl', '1213mesh_1.stl', '123-Mesh_0.stl', '123-Mesh_1.stl', '123-Mesh_2.stl', '123.obj', '1240.obj', '1240_0.stl', '1265-Mesh_0.stl', '1265-Mesh_1.stl', '1265-Mesh_2.stl', '1265.obj', '2336.obj', '252.obj', '252_0.stl', '252_1.stl', '252_2.stl', '2dpoint.txt', '3261.obj', '493.obj', '6239.obj', '679-Mesh_0.stl', '679-Mesh_1.stl', '679.obj', '866-Mesh_0.stl', '866-Mesh_1.stl', '866.obj', '870-Mesh_0.stl', '870-Mesh_1.stl', '870.obj', '972-Mesh_0.stl', '972-Mesh_1.stl', '972-Mesh_2.stl', '972.obj', 'A.obj', 'Arm.obj', 'Arm1.obj', 'Arm2.obj', 'Arm3.obj', 'Arm4.obj', 'Arm5.obj', 'B.obj', 'Base.obj', 'Base_Surface.obj', 'Base_Surface_bad.obj', 'Base_Surface_convert.obj', 'Base_Surface_convert.ply', 'Base_Surface_convert.stl', 'Base_Surface_new.obj', 'Blend_Input_A.obj', 'Blend_Input_B.obj', 'Board.json', 'Board_Grid.json', 'Board_Lattice.obj', 'Board_base.obj', 'Boardlatt.obj', 'Boardlatt_scaled.obj', 'Body.obj', 'Body1.obj', 'Body4.obj', 'Body5.obj', 'Bone.obj', 'Bone_test.obj', 'Boolean_Difference_Result.obj', 'Boolean_Difference_Result1.obj', 'Boolean_Input_A.obj', 'Boolean_Input_B.obj', 'Boolean_Intersection_Result.obj', 'Boolean_Result.obj', 'Boolean_Union_Result.obj', 'Boolean_example_A.obj', 'Boolean_example_A1.obj', 'Boolean_example_B.obj', 'Boolean_example_B1.obj', 'Bottom_Srf.obj', 'Box_Morph_Example.obj', 'Box_Morph_Example_base.obj', 'Box_Morph_Example_base_mesh.obj_0.stl', 'Box_Morph_Example_base_mesh2.obj_0.stl', 'Box_Morph_Example_base_mesh3.obj_0.stl', 'C.obj', 'C_Projection_Example.obj', 'C_Projection_Result.obj', 'C_Projection_Result_4.obj', 'C_proj_test.obj', 'Ceil_CompA.obj', 'Ceil_CompB.obj', 'Ciel_CompA.obj', 'Ciel_CompB.obj', 'CleanMesh.obj_0.stl', 'CleanMesh.obj_1.stl', 'CleanMesh.obj_10.stl', 'CleanMesh.obj_11.stl', 'CleanMesh.obj_2.stl', 'CleanMesh.obj_3.stl', 'CleanMesh.obj_4.stl', 'CleanMesh.obj_5.stl', 'CleanMesh.obj_6.stl', 'CleanMesh.obj_7.stl', 'CleanMesh.obj_8.stl', 'CleanMesh.obj_9.stl', 'CleanMesh_0.stl', 'CleanMesh_1.stl', 'CleanMesh_10.stl', 'CleanMesh_11.stl', 'CleanMesh_2.stl', 'CleanMesh_3.stl', 'CleanMesh_4.stl', 'CleanMesh_5.stl', 'CleanMesh_6.stl', 'CleanMesh_7.stl', 'CleanMesh_8.stl', 'CleanMesh_9.stl', 'CleanedMesh.obj', 'Combo_Mesh.obj', 'CompTestA.obj', 'CompTestB.obj', 'DirtyMesh.obj', 'DirtyMesh.stl', 'Dirty_Mesh.obj', 'ExampleLatticeUnit.obj', 'Example_LatticeUnit.obj', 'Example_LatticeUnit1.obj', 'Example_LatticeUnit10.obj', 'Example_LatticeUnit2.obj', 'Example_LatticeUnit3.obj', 'Example_LatticeUnit4.obj', 'Example_LatticeUnit5.obj', 'Example_LatticeUnit6.obj', 'Example_LatticeUnit7.obj', 'Example_LatticeUnit8.obj', 'Example_LatticeUnit9.obj', 'Example_LatticeUnit_1.obj', 'Example_LatticeUnit_2.obj', 'Example_LatticeUnit_3.obj', 'Example_LatticeUnit_4.obj', 'Example_LatticeUnit_5.obj', 'Example_LatticeUnit_6.obj', 'Example_LatticeUnit_7.obj', 'Example_LatticeUnit_8.obj', 'Example_LatticeUnit_9.obj', 'Example_SrfLattice.obj', 'Example_grid.json', 'Example_marchingCube.obj_0.stl', 'Example_marchingCube_0.stl', 'Example_volumeLattice.obj', 'Gear.obj', 'Head.obj', 'Joint_mesh.obj', 'LatticeBoard.obj', 'LatticeUnit_0.obj', 'Lattice_Unit.obj', 'Marching_Cube_Example.obj_0.stl', 'Marching_Cube_Example2_0.stl', 'Marching_Cube_Example2_1.stl', 'Marching_Cube_Example3_0.stl', 'Marching_Cube_Example3_1.stl', 'Marching_Cube_Example_0.stl', 'Marching_Cube_Example_1.stl', 'Marching_Cube_Example_1_0.stl', 'Marching_Cube_Example_1_1.stl', 'Marching_Cube_Example_2.stl', 'Marching_Cube_Example_2_0.stl', 'Marching_Cube_Example_2_1.stl', 'Marching_Cube_Example_3_0.stl', 'Marching_Cube_Example_4_0.stl', 'Marching_Cube_Example_4_1.stl', 'Marching_Cube_Example_5_0.stl', 'Marching_Cube_Example_6_0.stl', 'Marching_Cube_Example_6_1.stl', 'Marching_Cube_Example_6_2.stl', 'Marching_Cube_Example_6_3.stl', 'Marching_Cube_Example_6_4.stl', 'Mesh_Reduced_Example.obj', 'Mesh_Reduction_Example', 'Mesh_Split_Example_0.obj', 'Mesh_Split_Example_1.obj', 'Meshing.obj_0.stl', 'Meshing3_0.stl', 'Meshing4_0.stl', 'Meshing8_0.stl', 'Meshing_example.obj', 'P_Projection_Result.obj', 'P_Projection_Result_4.obj', 'P_Projection_Result_5.obj', 'P_Projection_Result_6.obj', 'P_test.obj', 'Part.obj', 'Piston_small.obj', 'Point_rev.json', 'R_mesh.obj', 'RedMesh.obj', 'Result.obj', 'S_Lattice_result.obj', 'S_Lattice_result2.obj', 'S_Lattice_result3.obj', 'S_Lattice_result4.obj', 'S_Lattice_result5.obj', 'S_Proj_Result_Arm.obj', 'S_Projection_Example.obj', 'S_Projection_Result.obj', 'S_Projection_Result_2.obj', 'S_Projection_Result_3.obj', 'S_Projection_Result_4.obj', 'S_Projection_Result_Arm.obj', 'S_Projection_example.obj', 'S_lat.obj', 'S_lat2.obj', 'S_lat3.obj', 'S_lattice.obj', 'S_lattice_Result.obj', 'S_mesh2_0.stl', 'S_mesh2_1.stl', 'S_mesh2_2.stl', 'S_mesh2_3.stl', 'S_mesh2_4.stl', 'S_mesh2_5.stl', 'S_mesh2_6.stl', 'S_mesh2_7.stl', 'S_mesh2_8.stl', 'S_mesh2_9.stl', 'S_mesh_0.stl', 'S_mesh_1.stl', 'S_mesh_2.stl', 'S_mesh_3.stl', 'S_proj_test.obj', 'Skate.json', 'Skate_Grid.json', 'Skate_Grid2.json', 'Skate_Lat.obj', 'Skate_Lat2.obj', 'Skate_Lattice.obj', 'Skate_Lattice_3D.obj', 'Skate_Spine.obj', 'Skate_base.obj', 'Skate_meshed_0.stl', 'Skate_meshed_1.stl', 'Skate_meshed_2.stl', 'Skate_meshed_3.stl', 'Skate_spine.obj', 'Skate_test.obj', 'Skate_test2.obj', 'Skate_test_board.obj', 'Skate_test_board2.obj', 'Skate_test_tail.obj', 'Skull Example.obj', 'Skull-Example.obj', 'Skull_Bone.obj', 'Skull_Srf.obj', 'Split_Mesh_0.obj', 'Split_Mesh_1.obj', 'Split_Mesh_2.obj', 'Split_Result_0.obj', 'Split_Result_1.obj', 'Split_Result_2.obj', 'Split_Result_3.obj', 'Split_test.obj', 'Split_test_Mesh_0.obj', 'Split_test_Mesh_1.obj', 'Split_test_Mesh_2.obj', 'Sprs.obj', 'Srf_A.obj', 'Srf_A_Ciel2.obj', 'Srf_A_Ciel3.obj', 'Srf_A_Ciel4.obj', 'Srf_A_Ciel5.obj', 'Srf_A_CielA.obj', 'Srf_A_CielB.obj', 'Srf_A_CielC.obj', 'Srf_A_Result.obj', 'Srf_A_Result_Ciel.obj', 'Srf_A_Result_Ciel2.obj', 'Srf_A_Result_Ciel3.obj', 'Srf_A_Result_Ciel4.obj', 'Srf_A_Result_Combo_1.obj', 'Srf_A_Result_Combo_2.obj', 'Srf_A_Result_Combo_3.obj', 'Srf_A_Result_Combo_4.obj', 'Srf_A_Result_Combo_5.obj', 'Srf_A_Result_Combo_6.obj', 'Srf_A_Result_Mesh_0.stl', 'Srf_A_Result_Mesh_B_0.stl', 'Srf_B.obj', 'Srf_B_Result.obj', 'Srf_Latt_Base.obj', 'Srf_Result_B.obj', 'Srf_test_Simple.obj', 'Surface_Base_LatticeUnit_2.obj', 'Surface_Lattice_Example.obj', 'Surface_Lattice_Example2.obj', 'Surface_Lattice_Example3.obj', 'Surface_Lattice_Example_1.obj', 'Surface_Lattice_Example_1.obj_0.stl', 'Surface_Lattice_Example_2.obj', 'Surface_Lattice_Example_2_0.stl', 'Surface_Lattice_Example_3.obj', 'Surface_Lattice_Example_3_0.stl', 'Surface_Lattice_Example_4.obj', 'Surface_Lattice_Example_5.obj', 'Surface_Lattice_Example_6.obj', 'Surface_result_Example_10_0.stl', 'Surface_result_Example_10_1.stl', 'Surface_result_Example_10_2.stl', 'Surface_result_Example_10_3.stl', 'Surface_result_Example_10_4.stl', 'Surface_result_Example_10_5.stl', 'Surface_result_Example_6_0.stl', 'Surface_result_Example_7_0.stl', 'Surface_result_Example_8_0.stl', 'Surface_result_Example_9_0.stl', 'Test.json', 'Top_Srf.obj', 'UVH.json', 'Vol.obj', 'Vol_A.obj', 'Vol_B.obj', 'Vol_Bone.obj', 'Vol_C.obj', 'Vol_D.obj', 'Vol_E.obj', 'Vol_Latt_Base.obj', 'Vol_Latt_Ex.obj', 'Vol_Latt_Ex2.obj', 'Vol_Latt_Ex3.obj', 'Vol_Latt_Ex4.obj', 'Vol_Latt_Example.obj', 'Vol_Latt_Example2.obj', 'Vol_Latt_Example4.obj', 'Vol_Latt_Example5.obj', 'Vol_Latt_Example_1.obj', 'Vol_Latt_Example_2.obj', 'Vol_Latt_Example_3.obj', 'Vol_Lattice_Example.obj', 'Vol_Result_A.obj', 'Vol_Result_B.obj', 'Vol_Simple.obj', 'Vol_Simple_A.obj', 'Vol_Simple_A_mesh_0.stl', 'Vol_Simple_B.obj', 'Vol_Simple_Result_A.obj', 'Vol_Simple_Result_B.obj', 'Vol_Simple_Result_C.obj', 'Vol_Simple_Result_D.obj', 'Vol_Simple_Result_E.obj', 'Vol_Simple_Result_F.obj', 'Vol_Simple_Result_G.obj', 'Vol_Simple_Result_H.obj', 'Vol_Simple_Result_I.obj', 'Vol_Unit.obj', 'Vol_base.obj', 'Vol_base1.obj', 'Vol_base_1.obj', 'Vol_base_q.obj', 'Vol_table.obj', 'Volume.obj', 'Volume_Lattice_Example.obj', 'alignedtest.json', 'blend.obj', 'blend_result.obj', 'blend_resultsa2.obj', 'blendboardtest.obj', 'blendboardtest1.obj', 'board-parts-result.obj', 'boardbaseSattice.obj', 'boardbasemesh2_0.stl', 'boardbasemesh_0.stl', 'boardlatt_0.obj', 'boardlatt_1.obj', 'boardlatt_2.obj', 'boardlattice.obj', 'boardlattice_1.obj', 'boardlattice_2.obj', 'boardmeshA_0.stl', 'boardmesh_0.stl', 'body.obj', 'body0.obj', 'body1.obj', 'body10.obj', 'body11.obj', 'body12.obj', 'body13.obj', 'body14.obj', 'body15.obj', 'body2.obj', 'body3.obj', 'body4.obj', 'body5.obj', 'body6.obj', 'body7.obj', 'body8.obj', 'body9.obj', 'body_reduce.obj', 'boolean_difference_result.obj', 'boolean_intersection_result.obj', 'boolean_union_result.obj', 'boolenD.obj', 'boolenI.obj', 'boolenU.obj', 'box.obj', 'box0.obj', 'box1.obj', 'box2.obj', 'box3.obj', 'capsule0.jpg', 'cat.JPG', 'cel55.json', 'cel55_fix.json', 'cell.obj', 'cell55_fix.json', 'cell66.json', 'cell99.json', 'cell99grid.json', 'cell99lattice.obj', 'cellX_0.stl', 'cell_0.stl', 'cell_1.obj', 'cell_2.obj', 'cmesh.obj', 'comp_Cross.obj', 'conformalLattice.obj', 'default.obj', 'default_blend.obj', 'default_marchingCubes_0.stl', 'default_marchingCubes_1.stl', 'default_marchingCubes_2.stl', 'default_projection.obj', 'example.obj', 'example.stl', 'exampleA.obj', 'exampleB.obj', 'exampleC.obj', 'exampleD.obj', 'example_0.obj', 'example_0.stl', 'example_1.obj', 'example_1.stl', 'example_10.obj', 'example_11.obj', 'example_12.obj', 'example_13.obj', 'example_14.obj', 'example_15.obj', 'example_2.obj', 'example_2.stl', 'example_3.obj', 'example_4.obj', 'example_5.obj', 'example_6.obj', 'example_7.obj', 'example_8.obj', 'example_9.obj', 'example_split.stl0stl', 'example_split.stl1stl', 'example_split.stl2stl', 'example_split_0.stl', 'example_split_1.stl', 'example_split_2.stl', 'file46_right.txt', 'finalMechMesh.obj_0.stl', 'finalMechMesh.obj_1.stl', 'finalMechMesh.obj_2.stl', 'finalMechMesh.obj_3.stl', 'fuck.obj', 'grid_example.json', 'grid_example_2.json', 'gritd.json', 'highUV.json', 'implant.obj', 'implantOutputV2_0.stl', 'implantOutputV2_1.stl', 'implantOutputV2_2.stl', 'implantOutputV2_3.stl', 'implantOutputV2_4.stl', 'implantOutputV2_5.stl', 'implantOutput_0.stl', 'implantOutput_1.stl', 'implantOutput_2.stl', 'implantOutput_3.stl', 'implantOutput_4.stl', 'implantOutput_5.stl', 'implantOutput_6.stl', 'implant_2.obj', 'in.json', 'inplant_Result.obj', 'landmark.temp', 'latticeUnit.obj', 'latticeUnit_example.obj', 'lattice_example.obj', 'mechOutput_0.stl', 'mechOutput_1.stl', 'mechOutput_2.stl', 'mechOutput_3.stl', 'mechOutput_4.stl', 'mechOutput_5.stl', 'mechOutput_6.stl', 'mechP.obj', 'meshing_example.stl', 'one.obj', 'out.json', 'out2.json', 'out_Lattice.obj', 'output.obj', 'piston_0.stl', 'piston_1.stl', 'piston_2.stl', 'piston_3.stl', 'piston_4.stl', 'piston_5.stl', 'piston_6.stl', 'piston_7.stl', 'piston_Result.obj', 'plane_projection.obj', 'point_test.json', 'point_test2.json', 'rec_base.obj', 'reduce.obj', 'reduce_0.obj', 'reduce_1.obj', 'reduce_10.obj', 'reduce_11.obj', 'reduce_12.obj', 'reduce_13.obj', 'reduce_14.obj', 'reduce_15.obj', 'reduce_2.obj', 'reduce_3.obj', 'reduce_4.obj', 'reduce_5.obj', 'reduce_6.obj', 'reduce_7.obj', 'reduce_8.obj', 'reduce_9.obj', 'result.obj', 'result1.obj', 'result2.obj', 'result_Arm.obj', 'result_Arm5.obj', 'retrained_labels.txt', 'scaledspine.obj', 'setup.py', 'shoe_0.stl', 'shoe_1.stl', 'shoe_2.stl', 'skate_example.json', 'skate_in.json', 'skate_out.json', 'skate_outter.json', 'skatespine.obj', 'skatetest..obj', 'skatetest.obj', 'skt-test_0.stl', 'skt-test_1.stl', 'skt-test_2.stl', 'skt-test_3.stl', 'sole_example.json', 'sphere.obj', 'sphere2.obj', 'spinelattice.obj', 'srf_bott.obj', 'srf_bott2.obj', 'srf_part.obj', 'srf_result_1_0.stl', 'stochasticLattic.obj', 'surface.json', 'surfaceLattice.obj', 'surface_simple.obj', 't.obj', 'test.json', 'test.obj', 'test1.obj', 'test2.obj', 'test3.obj', 'test_0.stl', 'test_1.stl', 'test_2.stl', 'test_3.stl', 'test_Lattice.obj', 'test_base.obj', 'test_base2.obj', 'test_base3.obj', 'test_base4.obj', 'test_proj.obj', 'test_proj1.obj', 'test_proj2.obj', 'test_proj3.obj', 'test_proj4.obj', 'test_proj5.obj', 'testgrid.json', 'testgridflip.json', 'tube_test.obj', 'tube_test.stl', 'twoSurfaceLattice_attractor_output.obj', 'unit.obj', 'unit_0.obj', 'unit_1.obj', 'unit_3D.obj', 'unit_3D2.obj', 'unit_example.obj', 'unit_example1.obj', 'uselattes.obj', 'uvhifhg.json', 'vol_Lattice_Example.obj', 'vol_att_exm.obj', 'vol_board.obj', 'vol_clip.obj', 'vol_example_2.obj', 'vol_exmple_2.obj', 'volalttexamplemeshed_0.stl', 'volalttexamplemeshedfg_0.stl', 'volumeLattice.obj', 'work.obj', 'work2.obj', 'works.obj', 'wow.obj']\n"
     ]
    }
   ],
   "source": [
    "files = genysis.listFiles(token)\n",
    "print(files)"
   ]
  },
  {
   "cell_type": "code",
   "execution_count": 2,
   "metadata": {},
   "outputs": [
    {
     "name": "stdout",
     "output_type": "stream",
     "text": [
      "request:  {\"component\": \"chain_unit.obj\", \"base\": \"surface_10by10.obj\", \"ceil\": null, \"cellHeight\": 3, \"filename\": \"surfaceLattice_0.obj\", \"blendTargets\": [], \"autoScale\": false, \"t\": \"dev\"}\n"
     ]
    },
    {
     "ename": "ConnectionError",
     "evalue": "('Connection aborted.', ConnectionResetError(10054, 'An existing connection was forcibly closed by the remote host', None, 10054, None))",
     "output_type": "error",
     "traceback": [
      "\u001b[1;31m---------------------------------------------------------------------------\u001b[0m",
      "\u001b[1;31mConnectionResetError\u001b[0m                      Traceback (most recent call last)",
      "\u001b[1;32m~\\Anaconda3\\lib\\site-packages\\urllib3\\connectionpool.py\u001b[0m in \u001b[0;36murlopen\u001b[1;34m(self, method, url, body, headers, retries, redirect, assert_same_host, timeout, pool_timeout, release_conn, chunked, body_pos, **response_kw)\u001b[0m\n\u001b[0;32m    600\u001b[0m                                                   \u001b[0mbody\u001b[0m\u001b[1;33m=\u001b[0m\u001b[0mbody\u001b[0m\u001b[1;33m,\u001b[0m \u001b[0mheaders\u001b[0m\u001b[1;33m=\u001b[0m\u001b[0mheaders\u001b[0m\u001b[1;33m,\u001b[0m\u001b[1;33m\u001b[0m\u001b[0m\n\u001b[1;32m--> 601\u001b[1;33m                                                   chunked=chunked)\n\u001b[0m\u001b[0;32m    602\u001b[0m \u001b[1;33m\u001b[0m\u001b[0m\n",
      "\u001b[1;32m~\\Anaconda3\\lib\\site-packages\\urllib3\\connectionpool.py\u001b[0m in \u001b[0;36m_make_request\u001b[1;34m(self, conn, method, url, timeout, chunked, **httplib_request_kw)\u001b[0m\n\u001b[0;32m    386\u001b[0m                     \u001b[1;31m# otherwise it looks like a programming error was the cause.\u001b[0m\u001b[1;33m\u001b[0m\u001b[1;33m\u001b[0m\u001b[0m\n\u001b[1;32m--> 387\u001b[1;33m                     \u001b[0msix\u001b[0m\u001b[1;33m.\u001b[0m\u001b[0mraise_from\u001b[0m\u001b[1;33m(\u001b[0m\u001b[0me\u001b[0m\u001b[1;33m,\u001b[0m \u001b[1;32mNone\u001b[0m\u001b[1;33m)\u001b[0m\u001b[1;33m\u001b[0m\u001b[0m\n\u001b[0m\u001b[0;32m    388\u001b[0m         \u001b[1;32mexcept\u001b[0m \u001b[1;33m(\u001b[0m\u001b[0mSocketTimeout\u001b[0m\u001b[1;33m,\u001b[0m \u001b[0mBaseSSLError\u001b[0m\u001b[1;33m,\u001b[0m \u001b[0mSocketError\u001b[0m\u001b[1;33m)\u001b[0m \u001b[1;32mas\u001b[0m \u001b[0me\u001b[0m\u001b[1;33m:\u001b[0m\u001b[1;33m\u001b[0m\u001b[0m\n",
      "\u001b[1;32m~\\Anaconda3\\lib\\site-packages\\urllib3\\packages\\six.py\u001b[0m in \u001b[0;36mraise_from\u001b[1;34m(value, from_value)\u001b[0m\n",
      "\u001b[1;32m~\\Anaconda3\\lib\\site-packages\\urllib3\\connectionpool.py\u001b[0m in \u001b[0;36m_make_request\u001b[1;34m(self, conn, method, url, timeout, chunked, **httplib_request_kw)\u001b[0m\n\u001b[0;32m    382\u001b[0m                 \u001b[1;32mtry\u001b[0m\u001b[1;33m:\u001b[0m\u001b[1;33m\u001b[0m\u001b[0m\n\u001b[1;32m--> 383\u001b[1;33m                     \u001b[0mhttplib_response\u001b[0m \u001b[1;33m=\u001b[0m \u001b[0mconn\u001b[0m\u001b[1;33m.\u001b[0m\u001b[0mgetresponse\u001b[0m\u001b[1;33m(\u001b[0m\u001b[1;33m)\u001b[0m\u001b[1;33m\u001b[0m\u001b[0m\n\u001b[0m\u001b[0;32m    384\u001b[0m                 \u001b[1;32mexcept\u001b[0m \u001b[0mException\u001b[0m \u001b[1;32mas\u001b[0m \u001b[0me\u001b[0m\u001b[1;33m:\u001b[0m\u001b[1;33m\u001b[0m\u001b[0m\n",
      "\u001b[1;32m~\\Anaconda3\\lib\\http\\client.py\u001b[0m in \u001b[0;36mgetresponse\u001b[1;34m(self)\u001b[0m\n\u001b[0;32m   1330\u001b[0m             \u001b[1;32mtry\u001b[0m\u001b[1;33m:\u001b[0m\u001b[1;33m\u001b[0m\u001b[0m\n\u001b[1;32m-> 1331\u001b[1;33m                 \u001b[0mresponse\u001b[0m\u001b[1;33m.\u001b[0m\u001b[0mbegin\u001b[0m\u001b[1;33m(\u001b[0m\u001b[1;33m)\u001b[0m\u001b[1;33m\u001b[0m\u001b[0m\n\u001b[0m\u001b[0;32m   1332\u001b[0m             \u001b[1;32mexcept\u001b[0m \u001b[0mConnectionError\u001b[0m\u001b[1;33m:\u001b[0m\u001b[1;33m\u001b[0m\u001b[0m\n",
      "\u001b[1;32m~\\Anaconda3\\lib\\http\\client.py\u001b[0m in \u001b[0;36mbegin\u001b[1;34m(self)\u001b[0m\n\u001b[0;32m    296\u001b[0m         \u001b[1;32mwhile\u001b[0m \u001b[1;32mTrue\u001b[0m\u001b[1;33m:\u001b[0m\u001b[1;33m\u001b[0m\u001b[0m\n\u001b[1;32m--> 297\u001b[1;33m             \u001b[0mversion\u001b[0m\u001b[1;33m,\u001b[0m \u001b[0mstatus\u001b[0m\u001b[1;33m,\u001b[0m \u001b[0mreason\u001b[0m \u001b[1;33m=\u001b[0m \u001b[0mself\u001b[0m\u001b[1;33m.\u001b[0m\u001b[0m_read_status\u001b[0m\u001b[1;33m(\u001b[0m\u001b[1;33m)\u001b[0m\u001b[1;33m\u001b[0m\u001b[0m\n\u001b[0m\u001b[0;32m    298\u001b[0m             \u001b[1;32mif\u001b[0m \u001b[0mstatus\u001b[0m \u001b[1;33m!=\u001b[0m \u001b[0mCONTINUE\u001b[0m\u001b[1;33m:\u001b[0m\u001b[1;33m\u001b[0m\u001b[0m\n",
      "\u001b[1;32m~\\Anaconda3\\lib\\http\\client.py\u001b[0m in \u001b[0;36m_read_status\u001b[1;34m(self)\u001b[0m\n\u001b[0;32m    257\u001b[0m     \u001b[1;32mdef\u001b[0m \u001b[0m_read_status\u001b[0m\u001b[1;33m(\u001b[0m\u001b[0mself\u001b[0m\u001b[1;33m)\u001b[0m\u001b[1;33m:\u001b[0m\u001b[1;33m\u001b[0m\u001b[0m\n\u001b[1;32m--> 258\u001b[1;33m         \u001b[0mline\u001b[0m \u001b[1;33m=\u001b[0m \u001b[0mstr\u001b[0m\u001b[1;33m(\u001b[0m\u001b[0mself\u001b[0m\u001b[1;33m.\u001b[0m\u001b[0mfp\u001b[0m\u001b[1;33m.\u001b[0m\u001b[0mreadline\u001b[0m\u001b[1;33m(\u001b[0m\u001b[0m_MAXLINE\u001b[0m \u001b[1;33m+\u001b[0m \u001b[1;36m1\u001b[0m\u001b[1;33m)\u001b[0m\u001b[1;33m,\u001b[0m \u001b[1;34m\"iso-8859-1\"\u001b[0m\u001b[1;33m)\u001b[0m\u001b[1;33m\u001b[0m\u001b[0m\n\u001b[0m\u001b[0;32m    259\u001b[0m         \u001b[1;32mif\u001b[0m \u001b[0mlen\u001b[0m\u001b[1;33m(\u001b[0m\u001b[0mline\u001b[0m\u001b[1;33m)\u001b[0m \u001b[1;33m>\u001b[0m \u001b[0m_MAXLINE\u001b[0m\u001b[1;33m:\u001b[0m\u001b[1;33m\u001b[0m\u001b[0m\n",
      "\u001b[1;32m~\\Anaconda3\\lib\\socket.py\u001b[0m in \u001b[0;36mreadinto\u001b[1;34m(self, b)\u001b[0m\n\u001b[0;32m    585\u001b[0m             \u001b[1;32mtry\u001b[0m\u001b[1;33m:\u001b[0m\u001b[1;33m\u001b[0m\u001b[0m\n\u001b[1;32m--> 586\u001b[1;33m                 \u001b[1;32mreturn\u001b[0m \u001b[0mself\u001b[0m\u001b[1;33m.\u001b[0m\u001b[0m_sock\u001b[0m\u001b[1;33m.\u001b[0m\u001b[0mrecv_into\u001b[0m\u001b[1;33m(\u001b[0m\u001b[0mb\u001b[0m\u001b[1;33m)\u001b[0m\u001b[1;33m\u001b[0m\u001b[0m\n\u001b[0m\u001b[0;32m    587\u001b[0m             \u001b[1;32mexcept\u001b[0m \u001b[0mtimeout\u001b[0m\u001b[1;33m:\u001b[0m\u001b[1;33m\u001b[0m\u001b[0m\n",
      "\u001b[1;31mConnectionResetError\u001b[0m: [WinError 10054] An existing connection was forcibly closed by the remote host",
      "\nDuring handling of the above exception, another exception occurred:\n",
      "\u001b[1;31mProtocolError\u001b[0m                             Traceback (most recent call last)",
      "\u001b[1;32m~\\Anaconda3\\lib\\site-packages\\requests\\adapters.py\u001b[0m in \u001b[0;36msend\u001b[1;34m(self, request, stream, timeout, verify, cert, proxies)\u001b[0m\n\u001b[0;32m    439\u001b[0m                     \u001b[0mretries\u001b[0m\u001b[1;33m=\u001b[0m\u001b[0mself\u001b[0m\u001b[1;33m.\u001b[0m\u001b[0mmax_retries\u001b[0m\u001b[1;33m,\u001b[0m\u001b[1;33m\u001b[0m\u001b[0m\n\u001b[1;32m--> 440\u001b[1;33m                     \u001b[0mtimeout\u001b[0m\u001b[1;33m=\u001b[0m\u001b[0mtimeout\u001b[0m\u001b[1;33m\u001b[0m\u001b[0m\n\u001b[0m\u001b[0;32m    441\u001b[0m                 )\n",
      "\u001b[1;32m~\\Anaconda3\\lib\\site-packages\\urllib3\\connectionpool.py\u001b[0m in \u001b[0;36murlopen\u001b[1;34m(self, method, url, body, headers, retries, redirect, assert_same_host, timeout, pool_timeout, release_conn, chunked, body_pos, **response_kw)\u001b[0m\n\u001b[0;32m    638\u001b[0m             retries = retries.increment(method, url, error=e, _pool=self,\n\u001b[1;32m--> 639\u001b[1;33m                                         _stacktrace=sys.exc_info()[2])\n\u001b[0m\u001b[0;32m    640\u001b[0m             \u001b[0mretries\u001b[0m\u001b[1;33m.\u001b[0m\u001b[0msleep\u001b[0m\u001b[1;33m(\u001b[0m\u001b[1;33m)\u001b[0m\u001b[1;33m\u001b[0m\u001b[0m\n",
      "\u001b[1;32m~\\Anaconda3\\lib\\site-packages\\urllib3\\util\\retry.py\u001b[0m in \u001b[0;36mincrement\u001b[1;34m(self, method, url, response, error, _pool, _stacktrace)\u001b[0m\n\u001b[0;32m    356\u001b[0m             \u001b[1;32mif\u001b[0m \u001b[0mread\u001b[0m \u001b[1;32mis\u001b[0m \u001b[1;32mFalse\u001b[0m \u001b[1;32mor\u001b[0m \u001b[1;32mnot\u001b[0m \u001b[0mself\u001b[0m\u001b[1;33m.\u001b[0m\u001b[0m_is_method_retryable\u001b[0m\u001b[1;33m(\u001b[0m\u001b[0mmethod\u001b[0m\u001b[1;33m)\u001b[0m\u001b[1;33m:\u001b[0m\u001b[1;33m\u001b[0m\u001b[0m\n\u001b[1;32m--> 357\u001b[1;33m                 \u001b[1;32mraise\u001b[0m \u001b[0msix\u001b[0m\u001b[1;33m.\u001b[0m\u001b[0mreraise\u001b[0m\u001b[1;33m(\u001b[0m\u001b[0mtype\u001b[0m\u001b[1;33m(\u001b[0m\u001b[0merror\u001b[0m\u001b[1;33m)\u001b[0m\u001b[1;33m,\u001b[0m \u001b[0merror\u001b[0m\u001b[1;33m,\u001b[0m \u001b[0m_stacktrace\u001b[0m\u001b[1;33m)\u001b[0m\u001b[1;33m\u001b[0m\u001b[0m\n\u001b[0m\u001b[0;32m    358\u001b[0m             \u001b[1;32melif\u001b[0m \u001b[0mread\u001b[0m \u001b[1;32mis\u001b[0m \u001b[1;32mnot\u001b[0m \u001b[1;32mNone\u001b[0m\u001b[1;33m:\u001b[0m\u001b[1;33m\u001b[0m\u001b[0m\n",
      "\u001b[1;32m~\\Anaconda3\\lib\\site-packages\\urllib3\\packages\\six.py\u001b[0m in \u001b[0;36mreraise\u001b[1;34m(tp, value, tb)\u001b[0m\n\u001b[0;32m    684\u001b[0m         \u001b[1;32mif\u001b[0m \u001b[0mvalue\u001b[0m\u001b[1;33m.\u001b[0m\u001b[0m__traceback__\u001b[0m \u001b[1;32mis\u001b[0m \u001b[1;32mnot\u001b[0m \u001b[0mtb\u001b[0m\u001b[1;33m:\u001b[0m\u001b[1;33m\u001b[0m\u001b[0m\n\u001b[1;32m--> 685\u001b[1;33m             \u001b[1;32mraise\u001b[0m \u001b[0mvalue\u001b[0m\u001b[1;33m.\u001b[0m\u001b[0mwith_traceback\u001b[0m\u001b[1;33m(\u001b[0m\u001b[0mtb\u001b[0m\u001b[1;33m)\u001b[0m\u001b[1;33m\u001b[0m\u001b[0m\n\u001b[0m\u001b[0;32m    686\u001b[0m         \u001b[1;32mraise\u001b[0m \u001b[0mvalue\u001b[0m\u001b[1;33m\u001b[0m\u001b[0m\n",
      "\u001b[1;32m~\\Anaconda3\\lib\\site-packages\\urllib3\\connectionpool.py\u001b[0m in \u001b[0;36murlopen\u001b[1;34m(self, method, url, body, headers, retries, redirect, assert_same_host, timeout, pool_timeout, release_conn, chunked, body_pos, **response_kw)\u001b[0m\n\u001b[0;32m    600\u001b[0m                                                   \u001b[0mbody\u001b[0m\u001b[1;33m=\u001b[0m\u001b[0mbody\u001b[0m\u001b[1;33m,\u001b[0m \u001b[0mheaders\u001b[0m\u001b[1;33m=\u001b[0m\u001b[0mheaders\u001b[0m\u001b[1;33m,\u001b[0m\u001b[1;33m\u001b[0m\u001b[0m\n\u001b[1;32m--> 601\u001b[1;33m                                                   chunked=chunked)\n\u001b[0m\u001b[0;32m    602\u001b[0m \u001b[1;33m\u001b[0m\u001b[0m\n",
      "\u001b[1;32m~\\Anaconda3\\lib\\site-packages\\urllib3\\connectionpool.py\u001b[0m in \u001b[0;36m_make_request\u001b[1;34m(self, conn, method, url, timeout, chunked, **httplib_request_kw)\u001b[0m\n\u001b[0;32m    386\u001b[0m                     \u001b[1;31m# otherwise it looks like a programming error was the cause.\u001b[0m\u001b[1;33m\u001b[0m\u001b[1;33m\u001b[0m\u001b[0m\n\u001b[1;32m--> 387\u001b[1;33m                     \u001b[0msix\u001b[0m\u001b[1;33m.\u001b[0m\u001b[0mraise_from\u001b[0m\u001b[1;33m(\u001b[0m\u001b[0me\u001b[0m\u001b[1;33m,\u001b[0m \u001b[1;32mNone\u001b[0m\u001b[1;33m)\u001b[0m\u001b[1;33m\u001b[0m\u001b[0m\n\u001b[0m\u001b[0;32m    388\u001b[0m         \u001b[1;32mexcept\u001b[0m \u001b[1;33m(\u001b[0m\u001b[0mSocketTimeout\u001b[0m\u001b[1;33m,\u001b[0m \u001b[0mBaseSSLError\u001b[0m\u001b[1;33m,\u001b[0m \u001b[0mSocketError\u001b[0m\u001b[1;33m)\u001b[0m \u001b[1;32mas\u001b[0m \u001b[0me\u001b[0m\u001b[1;33m:\u001b[0m\u001b[1;33m\u001b[0m\u001b[0m\n",
      "\u001b[1;32m~\\Anaconda3\\lib\\site-packages\\urllib3\\packages\\six.py\u001b[0m in \u001b[0;36mraise_from\u001b[1;34m(value, from_value)\u001b[0m\n",
      "\u001b[1;32m~\\Anaconda3\\lib\\site-packages\\urllib3\\connectionpool.py\u001b[0m in \u001b[0;36m_make_request\u001b[1;34m(self, conn, method, url, timeout, chunked, **httplib_request_kw)\u001b[0m\n\u001b[0;32m    382\u001b[0m                 \u001b[1;32mtry\u001b[0m\u001b[1;33m:\u001b[0m\u001b[1;33m\u001b[0m\u001b[0m\n\u001b[1;32m--> 383\u001b[1;33m                     \u001b[0mhttplib_response\u001b[0m \u001b[1;33m=\u001b[0m \u001b[0mconn\u001b[0m\u001b[1;33m.\u001b[0m\u001b[0mgetresponse\u001b[0m\u001b[1;33m(\u001b[0m\u001b[1;33m)\u001b[0m\u001b[1;33m\u001b[0m\u001b[0m\n\u001b[0m\u001b[0;32m    384\u001b[0m                 \u001b[1;32mexcept\u001b[0m \u001b[0mException\u001b[0m \u001b[1;32mas\u001b[0m \u001b[0me\u001b[0m\u001b[1;33m:\u001b[0m\u001b[1;33m\u001b[0m\u001b[0m\n",
      "\u001b[1;32m~\\Anaconda3\\lib\\http\\client.py\u001b[0m in \u001b[0;36mgetresponse\u001b[1;34m(self)\u001b[0m\n\u001b[0;32m   1330\u001b[0m             \u001b[1;32mtry\u001b[0m\u001b[1;33m:\u001b[0m\u001b[1;33m\u001b[0m\u001b[0m\n\u001b[1;32m-> 1331\u001b[1;33m                 \u001b[0mresponse\u001b[0m\u001b[1;33m.\u001b[0m\u001b[0mbegin\u001b[0m\u001b[1;33m(\u001b[0m\u001b[1;33m)\u001b[0m\u001b[1;33m\u001b[0m\u001b[0m\n\u001b[0m\u001b[0;32m   1332\u001b[0m             \u001b[1;32mexcept\u001b[0m \u001b[0mConnectionError\u001b[0m\u001b[1;33m:\u001b[0m\u001b[1;33m\u001b[0m\u001b[0m\n",
      "\u001b[1;32m~\\Anaconda3\\lib\\http\\client.py\u001b[0m in \u001b[0;36mbegin\u001b[1;34m(self)\u001b[0m\n\u001b[0;32m    296\u001b[0m         \u001b[1;32mwhile\u001b[0m \u001b[1;32mTrue\u001b[0m\u001b[1;33m:\u001b[0m\u001b[1;33m\u001b[0m\u001b[0m\n\u001b[1;32m--> 297\u001b[1;33m             \u001b[0mversion\u001b[0m\u001b[1;33m,\u001b[0m \u001b[0mstatus\u001b[0m\u001b[1;33m,\u001b[0m \u001b[0mreason\u001b[0m \u001b[1;33m=\u001b[0m \u001b[0mself\u001b[0m\u001b[1;33m.\u001b[0m\u001b[0m_read_status\u001b[0m\u001b[1;33m(\u001b[0m\u001b[1;33m)\u001b[0m\u001b[1;33m\u001b[0m\u001b[0m\n\u001b[0m\u001b[0;32m    298\u001b[0m             \u001b[1;32mif\u001b[0m \u001b[0mstatus\u001b[0m \u001b[1;33m!=\u001b[0m \u001b[0mCONTINUE\u001b[0m\u001b[1;33m:\u001b[0m\u001b[1;33m\u001b[0m\u001b[0m\n",
      "\u001b[1;32m~\\Anaconda3\\lib\\http\\client.py\u001b[0m in \u001b[0;36m_read_status\u001b[1;34m(self)\u001b[0m\n\u001b[0;32m    257\u001b[0m     \u001b[1;32mdef\u001b[0m \u001b[0m_read_status\u001b[0m\u001b[1;33m(\u001b[0m\u001b[0mself\u001b[0m\u001b[1;33m)\u001b[0m\u001b[1;33m:\u001b[0m\u001b[1;33m\u001b[0m\u001b[0m\n\u001b[1;32m--> 258\u001b[1;33m         \u001b[0mline\u001b[0m \u001b[1;33m=\u001b[0m \u001b[0mstr\u001b[0m\u001b[1;33m(\u001b[0m\u001b[0mself\u001b[0m\u001b[1;33m.\u001b[0m\u001b[0mfp\u001b[0m\u001b[1;33m.\u001b[0m\u001b[0mreadline\u001b[0m\u001b[1;33m(\u001b[0m\u001b[0m_MAXLINE\u001b[0m \u001b[1;33m+\u001b[0m \u001b[1;36m1\u001b[0m\u001b[1;33m)\u001b[0m\u001b[1;33m,\u001b[0m \u001b[1;34m\"iso-8859-1\"\u001b[0m\u001b[1;33m)\u001b[0m\u001b[1;33m\u001b[0m\u001b[0m\n\u001b[0m\u001b[0;32m    259\u001b[0m         \u001b[1;32mif\u001b[0m \u001b[0mlen\u001b[0m\u001b[1;33m(\u001b[0m\u001b[0mline\u001b[0m\u001b[1;33m)\u001b[0m \u001b[1;33m>\u001b[0m \u001b[0m_MAXLINE\u001b[0m\u001b[1;33m:\u001b[0m\u001b[1;33m\u001b[0m\u001b[0m\n",
      "\u001b[1;32m~\\Anaconda3\\lib\\socket.py\u001b[0m in \u001b[0;36mreadinto\u001b[1;34m(self, b)\u001b[0m\n\u001b[0;32m    585\u001b[0m             \u001b[1;32mtry\u001b[0m\u001b[1;33m:\u001b[0m\u001b[1;33m\u001b[0m\u001b[0m\n\u001b[1;32m--> 586\u001b[1;33m                 \u001b[1;32mreturn\u001b[0m \u001b[0mself\u001b[0m\u001b[1;33m.\u001b[0m\u001b[0m_sock\u001b[0m\u001b[1;33m.\u001b[0m\u001b[0mrecv_into\u001b[0m\u001b[1;33m(\u001b[0m\u001b[0mb\u001b[0m\u001b[1;33m)\u001b[0m\u001b[1;33m\u001b[0m\u001b[0m\n\u001b[0m\u001b[0;32m    587\u001b[0m             \u001b[1;32mexcept\u001b[0m \u001b[0mtimeout\u001b[0m\u001b[1;33m:\u001b[0m\u001b[1;33m\u001b[0m\u001b[0m\n",
      "\u001b[1;31mProtocolError\u001b[0m: ('Connection aborted.', ConnectionResetError(10054, 'An existing connection was forcibly closed by the remote host', None, 10054, None))",
      "\nDuring handling of the above exception, another exception occurred:\n",
      "\u001b[1;31mConnectionError\u001b[0m                           Traceback (most recent call last)",
      "\u001b[1;32m<ipython-input-2-f9964236c1c3>\u001b[0m in \u001b[0;36m<module>\u001b[1;34m()\u001b[0m\n\u001b[0;32m      7\u001b[0m \u001b[0msurfaceLattice\u001b[0m\u001b[1;33m.\u001b[0m\u001b[0msetComponent\u001b[0m\u001b[1;33m(\u001b[0m\u001b[1;34m\"chain_unit.obj\"\u001b[0m\u001b[1;33m)\u001b[0m\u001b[1;33m\u001b[0m\u001b[0m\n\u001b[0;32m      8\u001b[0m \u001b[0msurfaceLattice\u001b[0m\u001b[1;33m.\u001b[0m\u001b[0msetOutput\u001b[0m\u001b[1;33m(\u001b[0m\u001b[1;34m\"surfaceLattice_0.obj\"\u001b[0m\u001b[1;33m)\u001b[0m\u001b[1;33m\u001b[0m\u001b[0m\n\u001b[1;32m----> 9\u001b[1;33m \u001b[0msurfaceLattice\u001b[0m\u001b[1;33m.\u001b[0m\u001b[0mrun\u001b[0m\u001b[1;33m(\u001b[0m\u001b[1;34m\"dev\"\u001b[0m\u001b[1;33m)\u001b[0m\u001b[1;33m\u001b[0m\u001b[0m\n\u001b[0m\u001b[0;32m     10\u001b[0m \u001b[0mgenysis\u001b[0m\u001b[1;33m.\u001b[0m\u001b[0mvisualize\u001b[0m\u001b[1;33m(\u001b[0m\u001b[1;34m\"surfaceLattice_0.obj\"\u001b[0m\u001b[1;33m,\u001b[0m\u001b[1;34m\"dev\"\u001b[0m\u001b[1;33m,\u001b[0m\u001b[1;32mTrue\u001b[0m\u001b[1;33m)\u001b[0m\u001b[1;33m\u001b[0m\u001b[0m\n\u001b[0;32m     11\u001b[0m \u001b[1;31m# genysis.visualize(\"chain_unit.obj\",\"dev\",True)\u001b[0m\u001b[1;33m\u001b[0m\u001b[1;33m\u001b[0m\u001b[0m\n",
      "\u001b[1;32m~\\Documents\\GitHub\\genysis_documentation\\python_package\\genysis_pkg\\genysis\\genysis.py\u001b[0m in \u001b[0;36mrun\u001b[1;34m(self, token)\u001b[0m\n\u001b[0;32m    385\u001b[0m         }\n\u001b[0;32m    386\u001b[0m \u001b[1;33m\u001b[0m\u001b[0m\n\u001b[1;32m--> 387\u001b[1;33m         \u001b[1;32mreturn\u001b[0m \u001b[0msend\u001b[0m\u001b[1;33m(\u001b[0m\u001b[0mself\u001b[0m\u001b[1;33m.\u001b[0m\u001b[0murl\u001b[0m\u001b[1;33m,\u001b[0m\u001b[0mpayload\u001b[0m\u001b[1;33m)\u001b[0m\u001b[1;33m\u001b[0m\u001b[0m\n\u001b[0m\u001b[0;32m    388\u001b[0m \u001b[1;33m\u001b[0m\u001b[0m\n\u001b[0;32m    389\u001b[0m \u001b[1;33m\u001b[0m\u001b[0m\n",
      "\u001b[1;32m~\\Documents\\GitHub\\genysis_documentation\\python_package\\genysis_pkg\\genysis\\genysis.py\u001b[0m in \u001b[0;36msend\u001b[1;34m(url, payload, printPayload, printResult)\u001b[0m\n\u001b[0;32m     37\u001b[0m     \u001b[1;32mif\u001b[0m \u001b[0mprintPayload\u001b[0m\u001b[1;33m:\u001b[0m\u001b[1;33m\u001b[0m\u001b[0m\n\u001b[0;32m     38\u001b[0m         \u001b[0mprint\u001b[0m\u001b[1;33m(\u001b[0m\u001b[1;34m'request: '\u001b[0m\u001b[1;33m,\u001b[0m\u001b[0mjson\u001b[0m\u001b[1;33m.\u001b[0m\u001b[0mdumps\u001b[0m\u001b[1;33m(\u001b[0m\u001b[0mpayload\u001b[0m\u001b[1;33m)\u001b[0m\u001b[1;33m)\u001b[0m\u001b[1;33m\u001b[0m\u001b[0m\n\u001b[1;32m---> 39\u001b[1;33m     \u001b[0mr\u001b[0m \u001b[1;33m=\u001b[0m \u001b[0mrequests\u001b[0m\u001b[1;33m.\u001b[0m\u001b[0mpost\u001b[0m\u001b[1;33m(\u001b[0m\u001b[0murl\u001b[0m\u001b[1;33m,\u001b[0m\u001b[0mjson\u001b[0m\u001b[1;33m=\u001b[0m\u001b[0mpayload\u001b[0m\u001b[1;33m)\u001b[0m\u001b[1;33m\u001b[0m\u001b[0m\n\u001b[0m\u001b[0;32m     40\u001b[0m     \u001b[1;32mreturn\u001b[0m \u001b[0mparseResponse\u001b[0m\u001b[1;33m(\u001b[0m\u001b[0mr\u001b[0m\u001b[1;33m,\u001b[0m\u001b[0mprintResult\u001b[0m\u001b[1;33m)\u001b[0m\u001b[1;33m\u001b[0m\u001b[0m\n\u001b[0;32m     41\u001b[0m \u001b[1;33m\u001b[0m\u001b[0m\n",
      "\u001b[1;32m~\\Anaconda3\\lib\\site-packages\\requests\\api.py\u001b[0m in \u001b[0;36mpost\u001b[1;34m(url, data, json, **kwargs)\u001b[0m\n\u001b[0;32m    110\u001b[0m     \"\"\"\n\u001b[0;32m    111\u001b[0m \u001b[1;33m\u001b[0m\u001b[0m\n\u001b[1;32m--> 112\u001b[1;33m     \u001b[1;32mreturn\u001b[0m \u001b[0mrequest\u001b[0m\u001b[1;33m(\u001b[0m\u001b[1;34m'post'\u001b[0m\u001b[1;33m,\u001b[0m \u001b[0murl\u001b[0m\u001b[1;33m,\u001b[0m \u001b[0mdata\u001b[0m\u001b[1;33m=\u001b[0m\u001b[0mdata\u001b[0m\u001b[1;33m,\u001b[0m \u001b[0mjson\u001b[0m\u001b[1;33m=\u001b[0m\u001b[0mjson\u001b[0m\u001b[1;33m,\u001b[0m \u001b[1;33m**\u001b[0m\u001b[0mkwargs\u001b[0m\u001b[1;33m)\u001b[0m\u001b[1;33m\u001b[0m\u001b[0m\n\u001b[0m\u001b[0;32m    113\u001b[0m \u001b[1;33m\u001b[0m\u001b[0m\n\u001b[0;32m    114\u001b[0m \u001b[1;33m\u001b[0m\u001b[0m\n",
      "\u001b[1;32m~\\Anaconda3\\lib\\site-packages\\requests\\api.py\u001b[0m in \u001b[0;36mrequest\u001b[1;34m(method, url, **kwargs)\u001b[0m\n\u001b[0;32m     56\u001b[0m     \u001b[1;31m# cases, and look like a memory leak in others.\u001b[0m\u001b[1;33m\u001b[0m\u001b[1;33m\u001b[0m\u001b[0m\n\u001b[0;32m     57\u001b[0m     \u001b[1;32mwith\u001b[0m \u001b[0msessions\u001b[0m\u001b[1;33m.\u001b[0m\u001b[0mSession\u001b[0m\u001b[1;33m(\u001b[0m\u001b[1;33m)\u001b[0m \u001b[1;32mas\u001b[0m \u001b[0msession\u001b[0m\u001b[1;33m:\u001b[0m\u001b[1;33m\u001b[0m\u001b[0m\n\u001b[1;32m---> 58\u001b[1;33m         \u001b[1;32mreturn\u001b[0m \u001b[0msession\u001b[0m\u001b[1;33m.\u001b[0m\u001b[0mrequest\u001b[0m\u001b[1;33m(\u001b[0m\u001b[0mmethod\u001b[0m\u001b[1;33m=\u001b[0m\u001b[0mmethod\u001b[0m\u001b[1;33m,\u001b[0m \u001b[0murl\u001b[0m\u001b[1;33m=\u001b[0m\u001b[0murl\u001b[0m\u001b[1;33m,\u001b[0m \u001b[1;33m**\u001b[0m\u001b[0mkwargs\u001b[0m\u001b[1;33m)\u001b[0m\u001b[1;33m\u001b[0m\u001b[0m\n\u001b[0m\u001b[0;32m     59\u001b[0m \u001b[1;33m\u001b[0m\u001b[0m\n\u001b[0;32m     60\u001b[0m \u001b[1;33m\u001b[0m\u001b[0m\n",
      "\u001b[1;32m~\\Anaconda3\\lib\\site-packages\\requests\\sessions.py\u001b[0m in \u001b[0;36mrequest\u001b[1;34m(self, method, url, params, data, headers, cookies, files, auth, timeout, allow_redirects, proxies, hooks, stream, verify, cert, json)\u001b[0m\n\u001b[0;32m    506\u001b[0m         }\n\u001b[0;32m    507\u001b[0m         \u001b[0msend_kwargs\u001b[0m\u001b[1;33m.\u001b[0m\u001b[0mupdate\u001b[0m\u001b[1;33m(\u001b[0m\u001b[0msettings\u001b[0m\u001b[1;33m)\u001b[0m\u001b[1;33m\u001b[0m\u001b[0m\n\u001b[1;32m--> 508\u001b[1;33m         \u001b[0mresp\u001b[0m \u001b[1;33m=\u001b[0m \u001b[0mself\u001b[0m\u001b[1;33m.\u001b[0m\u001b[0msend\u001b[0m\u001b[1;33m(\u001b[0m\u001b[0mprep\u001b[0m\u001b[1;33m,\u001b[0m \u001b[1;33m**\u001b[0m\u001b[0msend_kwargs\u001b[0m\u001b[1;33m)\u001b[0m\u001b[1;33m\u001b[0m\u001b[0m\n\u001b[0m\u001b[0;32m    509\u001b[0m \u001b[1;33m\u001b[0m\u001b[0m\n\u001b[0;32m    510\u001b[0m         \u001b[1;32mreturn\u001b[0m \u001b[0mresp\u001b[0m\u001b[1;33m\u001b[0m\u001b[0m\n",
      "\u001b[1;32m~\\Anaconda3\\lib\\site-packages\\requests\\sessions.py\u001b[0m in \u001b[0;36msend\u001b[1;34m(self, request, **kwargs)\u001b[0m\n\u001b[0;32m    616\u001b[0m \u001b[1;33m\u001b[0m\u001b[0m\n\u001b[0;32m    617\u001b[0m         \u001b[1;31m# Send the request\u001b[0m\u001b[1;33m\u001b[0m\u001b[1;33m\u001b[0m\u001b[0m\n\u001b[1;32m--> 618\u001b[1;33m         \u001b[0mr\u001b[0m \u001b[1;33m=\u001b[0m \u001b[0madapter\u001b[0m\u001b[1;33m.\u001b[0m\u001b[0msend\u001b[0m\u001b[1;33m(\u001b[0m\u001b[0mrequest\u001b[0m\u001b[1;33m,\u001b[0m \u001b[1;33m**\u001b[0m\u001b[0mkwargs\u001b[0m\u001b[1;33m)\u001b[0m\u001b[1;33m\u001b[0m\u001b[0m\n\u001b[0m\u001b[0;32m    619\u001b[0m \u001b[1;33m\u001b[0m\u001b[0m\n\u001b[0;32m    620\u001b[0m         \u001b[1;31m# Total elapsed time of the request (approximately)\u001b[0m\u001b[1;33m\u001b[0m\u001b[1;33m\u001b[0m\u001b[0m\n",
      "\u001b[1;32m~\\Anaconda3\\lib\\site-packages\\requests\\adapters.py\u001b[0m in \u001b[0;36msend\u001b[1;34m(self, request, stream, timeout, verify, cert, proxies)\u001b[0m\n\u001b[0;32m    488\u001b[0m \u001b[1;33m\u001b[0m\u001b[0m\n\u001b[0;32m    489\u001b[0m         \u001b[1;32mexcept\u001b[0m \u001b[1;33m(\u001b[0m\u001b[0mProtocolError\u001b[0m\u001b[1;33m,\u001b[0m \u001b[0msocket\u001b[0m\u001b[1;33m.\u001b[0m\u001b[0merror\u001b[0m\u001b[1;33m)\u001b[0m \u001b[1;32mas\u001b[0m \u001b[0merr\u001b[0m\u001b[1;33m:\u001b[0m\u001b[1;33m\u001b[0m\u001b[0m\n\u001b[1;32m--> 490\u001b[1;33m             \u001b[1;32mraise\u001b[0m \u001b[0mConnectionError\u001b[0m\u001b[1;33m(\u001b[0m\u001b[0merr\u001b[0m\u001b[1;33m,\u001b[0m \u001b[0mrequest\u001b[0m\u001b[1;33m=\u001b[0m\u001b[0mrequest\u001b[0m\u001b[1;33m)\u001b[0m\u001b[1;33m\u001b[0m\u001b[0m\n\u001b[0m\u001b[0;32m    491\u001b[0m \u001b[1;33m\u001b[0m\u001b[0m\n\u001b[0;32m    492\u001b[0m         \u001b[1;32mexcept\u001b[0m \u001b[0mMaxRetryError\u001b[0m \u001b[1;32mas\u001b[0m \u001b[0me\u001b[0m\u001b[1;33m:\u001b[0m\u001b[1;33m\u001b[0m\u001b[0m\n",
      "\u001b[1;31mConnectionError\u001b[0m: ('Connection aborted.', ConnectionResetError(10054, 'An existing connection was forcibly closed by the remote host', None, 10054, None))"
     ]
    }
   ],
   "source": [
    "import genysis\n",
    "surfaceLattice = genysis.surfaceLattice()\n",
    "surfaceLattice.setEspilon(0.00001)\n",
    "surfaceLattice.setAutoScale(False)\n",
    "surfaceLattice.setSurface(\"surface_10by10.obj\")\n",
    "surfaceLattice.setCellHeight(3)\n",
    "surfaceLattice.setComponent(\"chain_unit.obj\")\n",
    "surfaceLattice.setOutput(\"surfaceLattice_0.obj\")\n",
    "surfaceLattice.run(\"dev\")\n",
    "genysis.visualize(\"surfaceLattice_0.obj\",\"dev\",True)\n",
    "# genysis.visualize(\"chain_unit.obj\",\"dev\",True)\n"
   ]
  },
  {
   "cell_type": "code",
   "execution_count": null,
   "metadata": {
    "collapsed": true
   },
   "outputs": [],
   "source": []
  }
 ],
 "metadata": {
  "kernelspec": {
   "display_name": "Python 3",
   "language": "python",
   "name": "python3"
  },
  "language_info": {
   "codemirror_mode": {
    "name": "ipython",
    "version": 3
   },
   "file_extension": ".py",
   "mimetype": "text/x-python",
   "name": "python",
   "nbconvert_exporter": "python",
   "pygments_lexer": "ipython3",
   "version": "3.6.2"
  }
 },
 "nbformat": 4,
 "nbformat_minor": 2
}
